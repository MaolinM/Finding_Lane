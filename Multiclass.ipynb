{
 "cells": [
  {
   "cell_type": "code",
   "execution_count": 16,
   "id": "6e54d577-cced-469b-bbcb-c755c7dc6d77",
   "metadata": {},
   "outputs": [],
   "source": [
    "import numpy as np\n",
    "import matplotlib.pyplot as plt\n",
    "import keras\n",
    "from sklearn import datasets\n",
    "from keras.models import Sequential\n",
    "from keras.layers import Dense\n",
    "from tensorflow.keras.optimizers import Adam\n",
    "from keras.utils.np_utils import to_categorical"
   ]
  },
  {
   "cell_type": "code",
   "execution_count": 26,
   "id": "08acd233-03c6-4ae9-970e-ec5d86c0050a",
   "metadata": {},
   "outputs": [
    {
     "data": {
      "text/plain": [
       "<matplotlib.collections.PathCollection at 0x2c90fa0bf10>"
      ]
     },
     "execution_count": 26,
     "metadata": {},
     "output_type": "execute_result"
    },
    {
     "data": {
      "image/png": "[encoded data removed]",
      "text/plain": [
       "<Figure size 432x288 with 1 Axes>"
      ]
     },
     "metadata": {
      "needs_background": "light"
     },
     "output_type": "display_data"
    }
   ],
   "source": [
    "n_pts = 500\n",
    "centers = [[-1, 1], [-1, -1], [1, -1], [1, 1], [0, 0]]\n",
    "X, y = datasets.make_blobs(n_samples=n_pts, random_state=123, centers=centers, cluster_std=0.4)\n",
    "\n",
    "plt.scatter(X[y==0, 0], X[y==0, 1])\n",
    "plt.scatter(X[y==1, 0], X[y==1, 1])\n",
    "plt.scatter(X[y==2, 0], X[y==2, 1])\n",
    "plt.scatter(X[y==3, 0], X[y==3, 1])\n",
    "plt.scatter(X[y==4, 0], X[y==4, 1])"
   ]
  },
  {
   "cell_type": "code",
   "execution_count": 29,
   "id": "7da82f4e-bf0e-4b7c-ad97-8d8223e40a2b",
   "metadata": {},
   "outputs": [],
   "source": [
    "y_cat = to_categorical(y, 5)"
   ]
  },
  {
   "cell_type": "code",
   "execution_count": 32,
   "id": "9c826e9b-6900-42c4-ba8a-c31fca384078",
   "metadata": {},
   "outputs": [],
   "source": [
    "model = Sequential()\n",
    "model.add(Dense(units=5, input_shape=(2,), activation='softmax'))\n",
    "model.compile(Adam(0.1), loss = 'categorical_crossentropy', metrics=['accuracy'])"
   ]
  },
  {
   "cell_type": "code",
   "execution_count": 33,
   "id": "9965d686-2ce0-4640-b35d-33725ae2935c",
   "metadata": {},
   "outputs": [
    {
     "name": "stdout",
     "output_type": "stream",
     "text": [
      "Epoch 1/100\n",
      "10/10 [==============================] - 0s 1ms/step - loss: 1.3667 - accuracy: 0.4280\n",
      "Epoch 2/100\n",
      "10/10 [==============================] - 0s 1ms/step - loss: 0.6577 - accuracy: 0.8200\n",
      "Epoch 3/100\n",
      "10/10 [==============================] - 0s 1ms/step - loss: 0.4346 - accuracy: 0.9040\n",
      "Epoch 4/100\n",
      "10/10 [==============================] - 0s 1ms/step - loss: 0.3492 - accuracy: 0.9420\n",
      "Epoch 5/100\n",
      "10/10 [==============================] - 0s 2ms/step - loss: 0.2992 - accuracy: 0.9480\n",
      "Epoch 6/100\n",
      "10/10 [==============================] - 0s 1ms/step - loss: 0.2732 - accuracy: 0.9400\n",
      "Epoch 7/100\n",
      "10/10 [==============================] - 0s 1ms/step - loss: 0.2543 - accuracy: 0.9420\n",
      "Epoch 8/100\n",
      "10/10 [==============================] - 0s 2ms/step - loss: 0.2400 - accuracy: 0.9440\n",
      "Epoch 9/100\n",
      "10/10 [==============================] - 0s 1ms/step - loss: 0.2300 - accuracy: 0.9480\n",
      "Epoch 10/100\n",
      "10/10 [==============================] - 0s 1ms/step - loss: 0.2199 - accuracy: 0.9480\n",
      "Epoch 11/100\n",
      "10/10 [==============================] - 0s 1ms/step - loss: 0.2142 - accuracy: 0.9460\n",
      "Epoch 12/100\n",
      "10/10 [==============================] - 0s 2ms/step - loss: 0.2079 - accuracy: 0.9420\n",
      "Epoch 13/100\n",
      "10/10 [==============================] - 0s 1ms/step - loss: 0.2009 - accuracy: 0.9460\n",
      "Epoch 14/100\n",
      "10/10 [==============================] - 0s 1ms/step - loss: 0.1976 - accuracy: 0.9500\n",
      "Epoch 15/100\n",
      "10/10 [==============================] - 0s 997us/step - loss: 0.1930 - accuracy: 0.9440\n",
      "Epoch 16/100\n",
      "10/10 [==============================] - 0s 1ms/step - loss: 0.1891 - accuracy: 0.9540\n",
      "Epoch 17/100\n",
      "10/10 [==============================] - 0s 1ms/step - loss: 0.1872 - accuracy: 0.9500\n",
      "Epoch 18/100\n",
      "10/10 [==============================] - 0s 1ms/step - loss: 0.1825 - accuracy: 0.9520\n",
      "Epoch 19/100\n",
      "10/10 [==============================] - 0s 1ms/step - loss: 0.1812 - accuracy: 0.9500\n",
      "Epoch 20/100\n",
      "10/10 [==============================] - 0s 1ms/step - loss: 0.1785 - accuracy: 0.9540\n",
      "Epoch 21/100\n",
      "10/10 [==============================] - 0s 1ms/step - loss: 0.1756 - accuracy: 0.9500\n",
      "Epoch 22/100\n",
      "10/10 [==============================] - 0s 2ms/step - loss: 0.1741 - accuracy: 0.9500\n",
      "Epoch 23/100\n",
      "10/10 [==============================] - 0s 1ms/step - loss: 0.1736 - accuracy: 0.9500\n",
      "Epoch 24/100\n",
      "10/10 [==============================] - 0s 1ms/step - loss: 0.1715 - accuracy: 0.9480\n",
      "Epoch 25/100\n",
      "10/10 [==============================] - 0s 1ms/step - loss: 0.1698 - accuracy: 0.9540\n",
      "Epoch 26/100\n",
      "10/10 [==============================] - 0s 1ms/step - loss: 0.1682 - accuracy: 0.9540\n",
      "Epoch 27/100\n",
      "10/10 [==============================] - 0s 997us/step - loss: 0.1684 - accuracy: 0.9500\n",
      "Epoch 28/100\n",
      "10/10 [==============================] - 0s 1ms/step - loss: 0.1652 - accuracy: 0.9520\n",
      "Epoch 29/100\n",
      "10/10 [==============================] - 0s 1ms/step - loss: 0.1649 - accuracy: 0.9480\n",
      "Epoch 30/100\n",
      "10/10 [==============================] - 0s 1ms/step - loss: 0.1646 - accuracy: 0.9520\n",
      "Epoch 31/100\n",
      "10/10 [==============================] - 0s 1ms/step - loss: 0.1627 - accuracy: 0.9520\n",
      "Epoch 32/100\n",
      "10/10 [==============================] - 0s 1ms/step - loss: 0.1631 - accuracy: 0.9520\n",
      "Epoch 33/100\n",
      "10/10 [==============================] - 0s 1ms/step - loss: 0.1621 - accuracy: 0.9500\n",
      "Epoch 34/100\n",
      "10/10 [==============================] - 0s 2ms/step - loss: 0.1617 - accuracy: 0.9540\n",
      "Epoch 35/100\n",
      "10/10 [==============================] - 0s 1ms/step - loss: 0.1601 - accuracy: 0.9540\n",
      "Epoch 36/100\n",
      "10/10 [==============================] - 0s 1ms/step - loss: 0.1605 - accuracy: 0.9500\n",
      "Epoch 37/100\n",
      "10/10 [==============================] - 0s 1ms/step - loss: 0.1608 - accuracy: 0.9500\n",
      "Epoch 38/100\n",
      "10/10 [==============================] - 0s 2ms/step - loss: 0.1587 - accuracy: 0.9520\n",
      "Epoch 39/100\n",
      "10/10 [==============================] - 0s 1ms/step - loss: 0.1584 - accuracy: 0.9500\n",
      "Epoch 40/100\n",
      "10/10 [==============================] - 0s 1ms/step - loss: 0.1584 - accuracy: 0.9500\n",
      "Epoch 41/100\n",
      "10/10 [==============================] - 0s 2ms/step - loss: 0.1585 - accuracy: 0.9500\n",
      "Epoch 42/100\n",
      "10/10 [==============================] - 0s 2ms/step - loss: 0.1574 - accuracy: 0.9500\n",
      "Epoch 43/100\n",
      "10/10 [==============================] - 0s 2ms/step - loss: 0.1574 - accuracy: 0.9460\n",
      "Epoch 44/100\n",
      "10/10 [==============================] - 0s 2ms/step - loss: 0.1569 - accuracy: 0.9460\n",
      "Epoch 45/100\n",
      "10/10 [==============================] - 0s 1ms/step - loss: 0.1561 - accuracy: 0.9500\n",
      "Epoch 46/100\n",
      "10/10 [==============================] - 0s 2ms/step - loss: 0.1566 - accuracy: 0.9500\n",
      "Epoch 47/100\n",
      "10/10 [==============================] - 0s 1ms/step - loss: 0.1562 - accuracy: 0.9520\n",
      "Epoch 48/100\n",
      "10/10 [==============================] - 0s 2ms/step - loss: 0.1558 - accuracy: 0.9540\n",
      "Epoch 49/100\n",
      "10/10 [==============================] - 0s 2ms/step - loss: 0.1565 - accuracy: 0.9480\n",
      "Epoch 50/100\n",
      "10/10 [==============================] - 0s 997us/step - loss: 0.1555 - accuracy: 0.9500\n",
      "Epoch 51/100\n",
      "10/10 [==============================] - 0s 1ms/step - loss: 0.1551 - accuracy: 0.9460\n",
      "Epoch 52/100\n",
      "10/10 [==============================] - 0s 1ms/step - loss: 0.1564 - accuracy: 0.9480\n",
      "Epoch 53/100\n",
      "10/10 [==============================] - 0s 3ms/step - loss: 0.1562 - accuracy: 0.9480\n",
      "Epoch 54/100\n",
      "10/10 [==============================] - 0s 2ms/step - loss: 0.1562 - accuracy: 0.9480\n",
      "Epoch 55/100\n",
      "10/10 [==============================] - 0s 1ms/step - loss: 0.1539 - accuracy: 0.9480\n",
      "Epoch 56/100\n",
      "10/10 [==============================] - 0s 2ms/step - loss: 0.1544 - accuracy: 0.9460\n",
      "Epoch 57/100\n",
      "10/10 [==============================] - 0s 997us/step - loss: 0.1540 - accuracy: 0.9500\n",
      "Epoch 58/100\n",
      "10/10 [==============================] - 0s 1ms/step - loss: 0.1543 - accuracy: 0.9500\n",
      "Epoch 59/100\n",
      "10/10 [==============================] - 0s 1ms/step - loss: 0.1547 - accuracy: 0.9500\n",
      "Epoch 60/100\n",
      "10/10 [==============================] - 0s 1ms/step - loss: 0.1546 - accuracy: 0.9520\n",
      "Epoch 61/100\n",
      "10/10 [==============================] - 0s 997us/step - loss: 0.1534 - accuracy: 0.9520\n",
      "Epoch 62/100\n",
      "10/10 [==============================] - 0s 1ms/step - loss: 0.1522 - accuracy: 0.9500\n",
      "Epoch 63/100\n",
      "10/10 [==============================] - 0s 1ms/step - loss: 0.1528 - accuracy: 0.9460\n",
      "Epoch 64/100\n",
      "10/10 [==============================] - 0s 997us/step - loss: 0.1533 - accuracy: 0.9520\n",
      "Epoch 65/100\n",
      "10/10 [==============================] - 0s 997us/step - loss: 0.1528 - accuracy: 0.9520\n",
      "Epoch 66/100\n",
      "10/10 [==============================] - 0s 1ms/step - loss: 0.1523 - accuracy: 0.9520\n",
      "Epoch 67/100\n",
      "10/10 [==============================] - 0s 1ms/step - loss: 0.1531 - accuracy: 0.9520\n",
      "Epoch 68/100\n",
      "10/10 [==============================] - ETA: 0s - loss: 0.2139 - accuracy: 0.94 - 0s 1ms/step - loss: 0.1522 - accuracy: 0.9520\n",
      "Epoch 69/100\n",
      "10/10 [==============================] - 0s 1ms/step - loss: 0.1533 - accuracy: 0.9460\n",
      "Epoch 70/100\n",
      "10/10 [==============================] - 0s 1ms/step - loss: 0.1520 - accuracy: 0.9480\n",
      "Epoch 71/100\n",
      "10/10 [==============================] - 0s 1ms/step - loss: 0.1529 - accuracy: 0.9540\n",
      "Epoch 72/100\n",
      "10/10 [==============================] - 0s 888us/step - loss: 0.1544 - accuracy: 0.9480\n",
      "Epoch 73/100\n",
      "10/10 [==============================] - 0s 997us/step - loss: 0.1536 - accuracy: 0.9460\n",
      "Epoch 74/100\n",
      "10/10 [==============================] - 0s 1ms/step - loss: 0.1518 - accuracy: 0.9500\n",
      "Epoch 75/100\n",
      "10/10 [==============================] - 0s 1ms/step - loss: 0.1520 - accuracy: 0.9540\n",
      "Epoch 76/100\n",
      "10/10 [==============================] - 0s 1ms/step - loss: 0.1520 - accuracy: 0.9520\n",
      "Epoch 77/100\n",
      "10/10 [==============================] - 0s 1ms/step - loss: 0.1526 - accuracy: 0.9480\n",
      "Epoch 78/100\n",
      "10/10 [==============================] - 0s 1ms/step - loss: 0.1514 - accuracy: 0.9460\n",
      "Epoch 79/100\n",
      "10/10 [==============================] - 0s 1ms/step - loss: 0.1511 - accuracy: 0.9520\n",
      "Epoch 80/100\n",
      "10/10 [==============================] - 0s 1ms/step - loss: 0.1540 - accuracy: 0.9540\n",
      "Epoch 81/100\n",
      "10/10 [==============================] - 0s 1ms/step - loss: 0.1513 - accuracy: 0.9520\n",
      "Epoch 82/100\n",
      "10/10 [==============================] - 0s 2ms/step - loss: 0.1533 - accuracy: 0.9460\n",
      "Epoch 83/100\n",
      "10/10 [==============================] - 0s 1ms/step - loss: 0.1522 - accuracy: 0.9480\n",
      "Epoch 84/100\n",
      "10/10 [==============================] - 0s 2ms/step - loss: 0.1514 - accuracy: 0.9480\n",
      "Epoch 85/100\n",
      "10/10 [==============================] - 0s 1ms/step - loss: 0.1516 - accuracy: 0.9460\n",
      "Epoch 86/100\n",
      "10/10 [==============================] - 0s 2ms/step - loss: 0.1513 - accuracy: 0.9520\n",
      "Epoch 87/100\n",
      "10/10 [==============================] - 0s 1ms/step - loss: 0.1519 - accuracy: 0.9500\n",
      "Epoch 88/100\n",
      "10/10 [==============================] - 0s 1ms/step - loss: 0.1528 - accuracy: 0.9500\n",
      "Epoch 89/100\n",
      "10/10 [==============================] - 0s 1ms/step - loss: 0.1522 - accuracy: 0.9500\n",
      "Epoch 90/100\n",
      "10/10 [==============================] - 0s 1ms/step - loss: 0.1513 - accuracy: 0.9480\n",
      "Epoch 91/100\n",
      "10/10 [==============================] - 0s 999us/step - loss: 0.1521 - accuracy: 0.9500\n",
      "Epoch 92/100\n",
      "10/10 [==============================] - 0s 1ms/step - loss: 0.1516 - accuracy: 0.9500\n",
      "Epoch 93/100\n",
      "10/10 [==============================] - 0s 1ms/step - loss: 0.1533 - accuracy: 0.9500\n",
      "Epoch 94/100\n",
      "10/10 [==============================] - 0s 1ms/step - loss: 0.1532 - accuracy: 0.9480\n",
      "Epoch 95/100\n",
      "10/10 [==============================] - 0s 1ms/step - loss: 0.1538 - accuracy: 0.9460\n",
      "Epoch 96/100\n",
      "10/10 [==============================] - 0s 997us/step - loss: 0.1506 - accuracy: 0.9480\n",
      "Epoch 97/100\n",
      "10/10 [==============================] - 0s 1ms/step - loss: 0.1520 - accuracy: 0.9500\n",
      "Epoch 98/100\n",
      "10/10 [==============================] - 0s 2ms/step - loss: 0.1527 - accuracy: 0.9460\n",
      "Epoch 99/100\n",
      "10/10 [==============================] - 0s 1ms/step - loss: 0.1519 - accuracy: 0.9480\n",
      "Epoch 100/100\n",
      "10/10 [==============================] - 0s 1ms/step - loss: 0.1515 - accuracy: 0.9520\n"
     ]
    },
    {
     "data": {
      "text/plain": [
       "<keras.callbacks.History at 0x2c90fbe5ca0>"
      ]
     },
     "execution_count": 33,
     "metadata": {},
     "output_type": "execute_result"
    }
   ],
   "source": [
    "model.fit(x=X, y=y_cat, verbose = 1, batch_size = 50, epochs = 100, shuffle = 'true')"
   ]
  },
  {
   "cell_type": "code",
   "execution_count": 23,
   "id": "db0e74b5-f9d8-45df-9162-04430b520472",
   "metadata": {},
   "outputs": [],
   "source": [
    "def plot_decision_boundary(X, y_cat, model):\n",
    "    x_span = np.linspace(min(X[:, 0]) - 1, max(X[:, 0]) + 1)\n",
    "    y_span = np.linspace(min(X[:, 1]) - 1, max(X[:, 1]) + 1)\n",
    "    xx, yy = np.meshgrid(x_span, y_span)\n",
    "    xx_, yy_ = xx.ravel(), yy.ravel()\n",
    "    grid = np.c_[xx_, yy_]\n",
    "    pred_func = np.argmax(model.predict(grid), axis =-1 )\n",
    "    z = pred_func.reshape(xx.shape)\n",
    "    plt.contourf(xx,yy,z)"
   ]
  },
  {
   "cell_type": "code",
   "execution_count": 34,
   "id": "50361cca-dd08-4e45-a7e0-53ef2e06dfbf",
   "metadata": {},
   "outputs": [
    {
     "data": {
      "text/plain": [
       "<matplotlib.collections.PathCollection at 0x2c918c57430>"
      ]
     },
     "execution_count": 34,
     "metadata": {},
     "output_type": "execute_result"
    },
    {
     "data": {
      "image/png": "[encoded data removed]",
      "text/plain": [
       "<Figure size 432x288 with 1 Axes>"
      ]
     },
     "metadata": {
      "needs_background": "light"
     },
     "output_type": "display_data"
    }
   ],
   "source": [
    "plot_decision_boundary(X, y_cat, model)\n",
    "plt.scatter(X[y==0, 0], X[y==0, 1])\n",
    "plt.scatter(X[y==1, 0], X[y==1, 1])\n",
    "plt.scatter(X[y==2, 0], X[y==2, 1])\n",
    "plt.scatter(X[y==3, 0], X[y==3, 1])\n",
    "plt.scatter(X[y==4, 0], X[y==4, 1])"
   ]
  },
  {
   "cell_type": "code",
   "execution_count": 36,
   "id": "8596c804-1e02-4a9a-bbdb-001c4749949e",
   "metadata": {},
   "outputs": [
    {
     "name": "stdout",
     "output_type": "stream",
     "text": [
      "Prediction is:  [[4.4930700e-02 5.3343385e-05 1.4142007e-05 7.2343566e-02 8.8265830e-01]]\n"
     ]
    },
    {
     "data": {
      "image/png": "[encoded data removed]",
      "text/plain": [
       "<Figure size 432x288 with 1 Axes>"
      ]
     },
     "metadata": {
      "needs_background": "light"
     },
     "output_type": "display_data"
    }
   ],
   "source": [
    "plot_decision_boundary(X, y_cat, model)\n",
    "plt.scatter(X[y==0, 0], X[y==0, 1])\n",
    "plt.scatter(X[y==1, 0], X[y==1, 1])\n",
    "plt.scatter(X[y==2, 0], X[y==2, 1])\n",
    "x=0\n",
    "y=0.5\n",
    "point = np.array([[x, y]])\n",
    "prediction = model.predict(point)\n",
    "plt.plot([x],[y], marker='o', markersize=10, color='red')\n",
    "print(\"Prediction is: \", prediction)"
   ]
  },
  {
   "cell_type": "code",
   "execution_count": null,
   "id": "193416fd-c660-4ef1-86ed-7807bd275043",
   "metadata": {},
   "outputs": [],
   "source": []
  }
 ],
 "metadata": {
  "kernelspec": {
   "display_name": "Python 3 (ipykernel)",
   "language": "python",
   "name": "python3"
  },
  "language_info": {
   "codemirror_mode": {
    "name": "ipython",
    "version": 3
   },
   "file_extension": ".py",
   "mimetype": "text/x-python",
   "name": "python",
   "nbconvert_exporter": "python",
   "pygments_lexer": "ipython3",
   "version": "3.8.2"
  }
 },
 "nbformat": 4,
 "nbformat_minor": 5
}
